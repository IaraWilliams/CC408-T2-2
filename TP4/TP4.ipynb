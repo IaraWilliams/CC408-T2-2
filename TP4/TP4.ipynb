{
 "cells": [
  {
   "cell_type": "code",
   "execution_count": 3,
   "metadata": {},
   "outputs": [],
   "source": [
    "import pandas as pd\n",
    "from diccios import diccionario_individual, diccionario_hogar"
   ]
  },
  {
   "cell_type": "markdown",
   "metadata": {},
   "source": [
    "PARTE 1"
   ]
  },
  {
   "cell_type": "markdown",
   "metadata": {},
   "source": [
    "EJERCICIO 2 Y 3"
   ]
  },
  {
   "cell_type": "code",
   "execution_count": 4,
   "metadata": {},
   "outputs": [],
   "source": [
    "# 2004\n",
    "df_hogar_2004 = pd.read_stata(\"Hogar_T12004.dta\")\n",
    "df_individual_2004 = pd.read_stata(\"Individual_T12004.dta\")"
   ]
  },
  {
   "cell_type": "code",
   "execution_count": 5,
   "metadata": {},
   "outputs": [],
   "source": [
    "# 2024\n",
    "df_hogar_2024 = pd.read_excel(\"usu_hogar_T12024.xlsx\")\n",
    "df_individual_2024 = pd.read_excel(\"usu_individual_T12024.xlsx\")"
   ]
  },
  {
   "cell_type": "code",
   "execution_count": 6,
   "metadata": {},
   "outputs": [],
   "source": [
    "# Calcular el porcentaje de valores nulos en cada columna\n",
    "# # 2004\n",
    "null_percentage_hogar_2004 = df_hogar_2004.isnull().mean() * 100\n",
    "null_percentage_individual_2004 = df_individual_2004.isnull().mean() * 100\n",
    "# # 2024\n",
    "null_percentage_hogar_2024 = df_hogar_2024.isnull().mean() * 100\n",
    "null_percentage_individual_2024 = df_individual_2024.isnull().mean() * 100\n",
    "\n",
    "\n",
    "# Filtrar las columnas que tienen más del 20% de valores nulos\n",
    "# # 2004\n",
    "columns_with_high_nulls_hogar_2004 = null_percentage_hogar_2004[null_percentage_hogar_2004 > 80].index\n",
    "columns_with_high_nulls_individual_2004 = null_percentage_individual_2004[null_percentage_individual_2004 > 80].index\n",
    "# # 2024\n",
    "columns_with_high_nulls_hogar_2024 = null_percentage_hogar_2024[null_percentage_hogar_2024 > 80].index\n",
    "columns_with_high_nulls_individual_2024 = null_percentage_individual_2024[null_percentage_individual_2024 > 80].index\n",
    "\n",
    "\n",
    "# Eliminar las columnas con más del 20% de valores nulos\n",
    "# # 2004\n",
    "df_hogar_2004 = df_hogar_2004.drop(columns=columns_with_high_nulls_hogar_2004)\n",
    "df_individual_2004 = df_individual_2004.drop(columns=columns_with_high_nulls_individual_2004)\n",
    "# # 2024\n",
    "df_hogar_2024 = df_hogar_2024.drop(columns=columns_with_high_nulls_hogar_2024)\n",
    "df_individual_2024 = df_individual_2024.drop(columns=columns_with_high_nulls_individual_2024)"
   ]
  },
  {
   "cell_type": "code",
   "execution_count": 7,
   "metadata": {},
   "outputs": [],
   "source": [
    "cols = [\"IV1_ESP\", \"IV7_Esp\", \"II7_Esp\", \"II8_Esp\", \"IDIMPH\", \"PP09A_ESP\", \"PP09C_ESP\", \"IDIMPP\", \"COCUR\", \"DECINDR\", \"DECIFR\", \"DECCFR\"]"
   ]
  },
  {
   "cell_type": "code",
   "execution_count": 8,
   "metadata": {},
   "outputs": [],
   "source": [
    "# Filtrar las columnas que terminan con los valores de la lista cols\n",
    "# # 2004\n",
    "columns_to_drop_hogar_2004 = [col for col in df_hogar_2004.columns if any(col.endswith(suffix.upper()) for suffix in cols)]\n",
    "columns_to_drop_individual_2004 = [col for col in df_individual_2004.columns if any(col.endswith(suffix.upper()) for suffix in cols)]\n",
    "# # 2024\n",
    "columns_to_drop_hogar_2024 = [col for col in df_hogar_2024.columns if any(col.endswith(suffix.upper()) for suffix in cols)]\n",
    "columns_to_drop_individual_2024 = [col for col in df_individual_2024.columns if any(col.endswith(suffix.upper()) for suffix in cols)]\n",
    "\n",
    "# Filtrar las columnas que son exactamente igual a los valores de la lista cols\n",
    "# # 2004\n",
    "columns_to_drop_hogar_2004.extend([col for col in df_hogar_2004.columns if col in cols])\n",
    "columns_to_drop_individual_2004.extend([col for col in df_individual_2004.columns if col in cols])\n",
    "# # 2024\n",
    "columns_to_drop_hogar_2024.extend([col for col in df_hogar_2024.columns if col in cols])\n",
    "columns_to_drop_individual_2024.extend([col for col in df_individual_2024.columns if col in cols])\n",
    "\n",
    "# Eliminar las columnas que terminan con los valores de la lista cols\n",
    "# # 2004\n",
    "df_hogar_2004 = df_hogar_2004.drop(columns=columns_to_drop_hogar_2004)\n",
    "df_individual_2004 = df_individual_2004.drop(columns=columns_to_drop_individual_2004)\n",
    "# # 2024\n",
    "df_hogar_2024 = df_hogar_2024.drop(columns=columns_to_drop_hogar_2024)\n",
    "df_individual_2024 = df_individual_2024.drop(columns=columns_to_drop_individual_2024)"
   ]
  },
  {
   "cell_type": "code",
   "execution_count": 9,
   "metadata": {},
   "outputs": [],
   "source": [
    "# Convertir todas las columnas a mayúsculas\n",
    "df_hogar_2004.columns = df_hogar_2004.columns.str.upper()\n",
    "df_individual_2004.columns = df_individual_2004.columns.str.upper()\n",
    "df_hogar_2024.columns = df_hogar_2024.columns.str.upper()\n",
    "df_individual_2024.columns = df_individual_2024.columns.str.upper()"
   ]
  },
  {
   "cell_type": "code",
   "execution_count": 10,
   "metadata": {},
   "outputs": [],
   "source": [
    "# Filtrar región\n",
    "# # 2004\n",
    "df_hogar_2004 = df_hogar_2004[df_hogar_2004[\"REGION\"] == \"Gran Buenos Aires\"]\n",
    "df_individual_2004 = df_individual_2004[df_individual_2004[\"REGION\"] == \"Gran Buenos Aires\"]\n",
    "# # 2024\n",
    "df_hogar_2024 = df_hogar_2024[df_hogar_2024[\"REGION\"] == 1]\n",
    "df_individual_2024 = df_individual_2024[df_individual_2024[\"REGION\"] == 1]"
   ]
  },
  {
   "cell_type": "code",
   "execution_count": 11,
   "metadata": {},
   "outputs": [],
   "source": [
    "# Obtener las columnas de cada dataframe de hogar\n",
    "columns_hogar_2004 = set(df_hogar_2004.columns)\n",
    "columns_hogar_2024 = set(df_hogar_2024.columns)\n",
    "\n",
    "# Encontrar las columnas que no tienen en común\n",
    "columns_not_in_common_hogar = columns_hogar_2004.symmetric_difference(columns_hogar_2024)\n",
    "\n",
    "# Eliminar las columnas que no tienen en común\n",
    "for col in columns_not_in_common_hogar:\n",
    "    try:\n",
    "        df_hogar_2004 = df_hogar_2004.drop(columns=col)\n",
    "    except:\n",
    "        df_hogar_2024 = df_hogar_2024.drop(columns=col)\n",
    "\n",
    "# Obtener las columnas de cada dataframe de individual\n",
    "columns_individual_2004 = set(df_individual_2004.columns)\n",
    "columns_individual_2024 = set(df_individual_2024.columns)\n",
    "\n",
    "# Encontrar las columnas que no tienen en común\n",
    "columns_not_in_common_individual = columns_individual_2004.symmetric_difference(columns_individual_2024)\n",
    "\n",
    "# Eliminar las columnas que no tienen en común\n",
    "for col in columns_not_in_common_individual:\n",
    "    try:\n",
    "        df_individual_2004 = df_individual_2004.drop(columns=col)\n",
    "    except:\n",
    "        df_individual_2024 = df_individual_2024.drop(columns=col)"
   ]
  },
  {
   "cell_type": "code",
   "execution_count": 12,
   "metadata": {},
   "outputs": [],
   "source": [
    "# Columnas categóricas en df_hogar_2004\n",
    "categorical_columns_hogar_2004 = df_hogar_2004.select_dtypes(include=['category']).columns\n",
    "\n",
    "for col in categorical_columns_hogar_2004:\n",
    "    if col in diccionario_hogar:\n",
    "        df_hogar_2004[col] = df_hogar_2004[col].cat.rename_categories(diccionario_hogar[col])\n",
    "\n",
    "# Columnas categóricas en df_hogar_2004\n",
    "categorical_columns_individual_2004 = df_individual_2004.select_dtypes(include=['category']).columns\n",
    "\n",
    "for col in categorical_columns_individual_2004:\n",
    "    if col in diccionario_individual:\n",
    "        df_individual_2004[col] = df_individual_2004[col].cat.rename_categories(diccionario_individual[col])"
   ]
  },
  {
   "cell_type": "code",
   "execution_count": 13,
   "metadata": {},
   "outputs": [],
   "source": [
    "#SACAMOS CUALQUIER FILA CON VALOR NEGATIVO EN ALGUNA DE LAS COLUMNAS Y VEMOS CUANTAS FILAS SE ELIMINARON\n",
    "\n",
    "# Función para eliminar filas con valores negativos \n",
    "def eliminar_filas_negativas_vacias(df):\n",
    "    # Seleccionar solo las columnas numéricas\n",
    "    columnas_numericas = df.select_dtypes(include='number').columns\n",
    "    \n",
    "    # Contar el total de filas iniciales\n",
    "    total_filas_iniciales = len(df)\n",
    "    \n",
    "    # Eliminar filas con valores negativos \n",
    "    df_limpio = df[~(df[columnas_numericas] < 0).any(axis=1)]\n",
    "    \n",
    "    \n",
    "    # Contar el total de filas después de la eliminación\n",
    "    total_filas_eliminadas = total_filas_iniciales - len(df_limpio)\n",
    "    \n",
    "    return df_limpio, total_filas_eliminadas\n",
    "\n",
    "# Llamar a la función en el DataFrame y obtener el total de filas eliminadas\n",
    "# # 2004\n",
    "df_hogar_2004, total_filas_eliminadas_hogar_2004 = eliminar_filas_negativas_vacias(df_hogar_2004)\n",
    "df_individual_2004, total_filas_eliminadas_individual_2004 = eliminar_filas_negativas_vacias(df_individual_2004)\n",
    "# # 2024\n",
    "df_hogar_2024, total_filas_eliminadas_hogar_2024 = eliminar_filas_negativas_vacias(df_hogar_2024)\n",
    "df_individual_2024, total_filas_eliminadas_individual_2024 = eliminar_filas_negativas_vacias(df_individual_2024)"
   ]
  },
  {
   "cell_type": "code",
   "execution_count": 14,
   "metadata": {},
   "outputs": [],
   "source": [
    "# Unir los dataframes de hogar\n",
    "df_hogar_combined = pd.concat([df_hogar_2004, df_hogar_2024], ignore_index=True)\n",
    "\n",
    "# Unir los dataframes de individual\n",
    "df_individual_combined = pd.concat([df_individual_2004, df_individual_2024], ignore_index=True)"
   ]
  },
  {
   "cell_type": "code",
   "execution_count": 15,
   "metadata": {},
   "outputs": [],
   "source": [
    "# Realizar el merge entre los dataframes combinados\n",
    "df_merged = pd.merge(df_hogar_combined, df_individual_combined, on=['CODUSU', 'ANO4', 'TRIMESTRE', 'NRO_HOGAR'], how='inner')"
   ]
  },
  {
   "cell_type": "code",
   "execution_count": 16,
   "metadata": {},
   "outputs": [
    {
     "data": {
      "text/plain": [
       "(13246, 184)"
      ]
     },
     "execution_count": 16,
     "metadata": {},
     "output_type": "execute_result"
    }
   ],
   "source": [
    "df_merged.shape"
   ]
  },
  {
   "cell_type": "code",
   "execution_count": 17,
   "metadata": {},
   "outputs": [],
   "source": [
    "# Convertir a numéricas\n",
    "df_merged['CH06'] = pd.to_numeric(df_merged['CH06'], errors='coerce')"
   ]
  },
  {
   "cell_type": "code",
   "execution_count": 18,
   "metadata": {},
   "outputs": [
    {
     "data": {
      "text/plain": [
       "0        79.0\n",
       "1        74.0\n",
       "2        54.0\n",
       "3        51.0\n",
       "4        25.0\n",
       "         ... \n",
       "13241    59.0\n",
       "13242    24.0\n",
       "13243    73.0\n",
       "13244    68.0\n",
       "13245    45.0\n",
       "Name: CH06, Length: 13246, dtype: float64"
      ]
     },
     "execution_count": 18,
     "metadata": {},
     "output_type": "execute_result"
    }
   ],
   "source": [
    "df_merged['CH06']"
   ]
  },
  {
   "cell_type": "markdown",
   "metadata": {},
   "source": [
    "EJERCICIO 4"
   ]
  },
  {
   "cell_type": "code",
   "execution_count": 19,
   "metadata": {},
   "outputs": [],
   "source": [
    "\n",
    "#VARIABLE 1 - PROMEDIO EDAD OCUPADOS POR HOGAR\n",
    "#Las edades de los ocupados pueden dar contexto al tipo de empleo en el hogar. Esto podría indicar la estabilidad o las expectativas de empleo en otros integrantes.\n",
    "\n",
    "# Filtrar los ocupados y calcular el promedio de edad por hogar\n",
    "edad_ocupados = df_merged[df_merged['ESTADO'] == 1].groupby(['CODUSU'])['CH06'].mean().reset_index()\n",
    "\n",
    "# Renombrar la columna de promedio de edad para el merge\n",
    "edad_ocupados = edad_ocupados.rename(columns={'CH06': 'prom_edad_ocup'})\n",
    "\n",
    "# Hacer un merge para agregar la nueva columna al DataFrame original\n",
    "df_merged = df_merged.merge(edad_ocupados, on='CODUSU', how='left')\n",
    "\n",
    "#print(df_merged['prom_edad_ocup'])\n",
    "\n",
    "\n"
   ]
  },
  {
   "cell_type": "code",
   "execution_count": 21,
   "metadata": {},
   "outputs": [
    {
     "name": "stdout",
     "output_type": "stream",
     "text": [
      "0        0\n",
      "1        0\n",
      "2        4\n",
      "3        4\n",
      "4        4\n",
      "        ..\n",
      "13241    2\n",
      "13242    1\n",
      "13243    2\n",
      "13244    2\n",
      "13245    2\n",
      "Name: total_en_edad_trabajo, Length: 13246, dtype: int64\n"
     ]
    }
   ],
   "source": [
    "#VARIABLE 2 - Número de personas en edad de trabajar en el hogar\n",
    "# cuántas personas están en edad de trabajar (ej. entre 18 y 70 años), puede relacionarse con el potencial de desocupación en el hogar.\n",
    "\n",
    "# Crear la columna 'en_edad_trabajo' en el DataFrame original \n",
    "df_merged['en_edad_trabajo'] = ((df_merged['CH06'] >= 18) & (df_merged['CH06'] <= 70)).astype(int)\n",
    "\n",
    "# Agrupar por 'CODUSU' y sumar la cantidad de personas en edad de trabajo\n",
    "personas_edad_trabajo = df_merged.groupby(['CODUSU'])['en_edad_trabajo'].sum().reset_index()\n",
    "\n",
    "# Renombrar la columna sumada para diferenciarla en el merge\n",
    "personas_edad_trabajo = personas_edad_trabajo.rename(columns={'en_edad_trabajo': 'total_en_edad_trabajo'})\n",
    "\n",
    "# Hacer el merge para agregar la nueva columna al DataFrame original\n",
    "df_merged = df_merged.merge(personas_edad_trabajo, on='CODUSU', how='left')\n",
    "\n",
    "# Verificar la columna agregada\n",
    "print(df_merged['total_en_edad_trabajo'])\n"
   ]
  },
  {
   "cell_type": "code",
   "execution_count": null,
   "metadata": {},
   "outputs": [
    {
     "name": "stdout",
     "output_type": "stream",
     "text": [
      "0        inf\n",
      "1        inf\n",
      "2        0.0\n",
      "3        0.0\n",
      "4        0.0\n",
      "        ... \n",
      "13241    0.0\n",
      "13242    0.0\n",
      "13243    0.5\n",
      "13244    0.5\n",
      "13245    0.5\n",
      "Name: proporcion_dependientes, Length: 13246, dtype: float64\n"
     ]
    }
   ],
   "source": [
    "#VARIABLE 3 - Proporción de dependientes en el hogar\n",
    "# la cantidad de dependientes en el hogar en relación con el total de personas en edad de trabajar, puede dar una idea de la carga familiar y la necesidad de ingresos.Calcular la proporción de dependientes en relación con el total de personas en edad de trabajar\n",
    "\n",
    "# Crear una columna que indique si la persona es dependiente (fuera de la edad de trabajar)\n",
    "df_merged['es_dependiente'] = ((df_merged['CH06'] < 18) | (df_merged['CH06'] > 70)).astype(int)\n",
    "\n",
    "# Agrupar por 'CODUSU' para contar el total de dependientes por hogar\n",
    "dependientes_por_hogar = df_merged.groupby(['CODUSU'])['es_dependiente'].sum().reset_index()\n",
    "\n",
    "# Renombrar la columna para el merge\n",
    "dependientes_por_hogar = dependientes_por_hogar.rename(columns={'es_dependiente': 'total_dependientes'})\n",
    "\n",
    "# Agregar la columna al DataFrame original\n",
    "df_merged = df_merged.merge(dependientes_por_hogar, on='CODUSU', how='left')\n",
    "\n",
    "# Calcular la proporción de dependientes en relación con el total de personas en edad de trabajar\n",
    "df_merged['proporcion_dependientes'] = df_merged['total_dependientes'] / df_merged['total_en_edad_trabajo']    #las que dan infinito son las que no tienen personas en edad de trabajar!!!!!\n",
    "\n",
    "print(df_merged['proporcion_dependientes'])"
   ]
  }
 ],
 "metadata": {
  "kernelspec": {
   "display_name": "Python 3",
   "language": "python",
   "name": "python3"
  },
  "language_info": {
   "codemirror_mode": {
    "name": "ipython",
    "version": 3
   },
   "file_extension": ".py",
   "mimetype": "text/x-python",
   "name": "python",
   "nbconvert_exporter": "python",
   "pygments_lexer": "ipython3",
   "version": "3.10.0"
  }
 },
 "nbformat": 4,
 "nbformat_minor": 2
}
